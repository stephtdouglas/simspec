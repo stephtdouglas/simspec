{
 "cells": [
  {
   "cell_type": "code",
   "execution_count": 1,
   "metadata": {
    "collapsed": true
   },
   "outputs": [],
   "source": [
    "from __future__ import print_function, division, absolute_import\n",
    "\n",
    "%matplotlib inline\n",
    "import matplotlib.pyplot as plt\n",
    "import numpy as np\n",
    "from astropy.coordinates import SkyCoord\n",
    "import astropy.io.ascii as at\n",
    "import astropy.units as u\n",
    "from scipy.interpolate import interp1d"
   ]
  },
  {
   "cell_type": "code",
   "execution_count": 2,
   "metadata": {
    "collapsed": false
   },
   "outputs": [
    {
     "name": "stderr",
     "output_type": "stream",
     "text": [
      "WARNING: OldEarthOrientationDataWarning: Your version of the IERS Bulletin A is 18.8 days old. For best precision (on the order of arcseconds), you must download an up-to-date IERS Bulletin A table. To do so, run:\n",
      "\n",
      ">>> from astroplan import download_IERS_A\n",
      ">>> download_IERS_A()\n",
      " [astroplan.utils]\n",
      "WARNING:astropy:OldEarthOrientationDataWarning: Your version of the IERS Bulletin A is 18.8 days old. For best precision (on the order of arcseconds), you must download an up-to-date IERS Bulletin A table. To do so, run:\n",
      "\n",
      ">>> from astroplan import download_IERS_A\n",
      ">>> download_IERS_A()\n",
      "\n"
     ]
    },
    {
     "data": {
      "text/plain": [
       "u'0.4'"
      ]
     },
     "execution_count": 2,
     "metadata": {},
     "output_type": "execute_result"
    }
   ],
   "source": [
    "import astroplan\n",
    "astroplan.__version__"
   ]
  },
  {
   "cell_type": "code",
   "execution_count": 3,
   "metadata": {
    "collapsed": true
   },
   "outputs": [],
   "source": [
    "from astroplan import Observer,FixedTarget,ObservingBlock\n",
    "from astroplan.constraints import AtNightConstraint, AirmassConstraint\n",
    "from astroplan.constraints import TimeConstraint, MoonSeparationConstraint\n",
    "from astroplan.scheduling import Transitioner,SequentialScheduler,Schedule\n",
    "from astropy.time import Time\n",
    "from astroplan.plots import plot_schedule_airmass"
   ]
  },
  {
   "cell_type": "code",
   "execution_count": 40,
   "metadata": {
    "collapsed": false
   },
   "outputs": [],
   "source": [
    "kpno = Observer.at_site('kpno')"
   ]
  },
  {
   "cell_type": "code",
   "execution_count": 33,
   "metadata": {
    "collapsed": false
   },
   "outputs": [
    {
     "name": "stdout",
     "output_type": "stream",
     "text": [
      "130d06m00s\n"
     ]
    }
   ],
   "source": [
    "praesepe = FixedTarget.from_name(\"Praesepe\")"
   ]
  },
  {
   "cell_type": "code",
   "execution_count": 35,
   "metadata": {
    "collapsed": false
   },
   "outputs": [
    {
     "name": "stdout",
     "output_type": "stream",
     "text": [
      "8h40m24s 19d40m00.12s\n"
     ]
    }
   ],
   "source": [
    "print(praesepe.ra.to(u.hourangle),praesepe.dec)"
   ]
  },
  {
   "cell_type": "code",
   "execution_count": 52,
   "metadata": {
    "collapsed": true
   },
   "outputs": [],
   "source": [
    "from astropy.time import Time\n",
    "noon_before = Time('2017-12-11 19:00:01')\n",
    "noon_after = Time('2017-12-12 19:00:01')"
   ]
  },
  {
   "cell_type": "code",
   "execution_count": 75,
   "metadata": {
    "collapsed": false
   },
   "outputs": [],
   "source": [
    "constraints = [AirmassConstraint(max=2,boolean_constraint=True),\n",
    "                      AtNightConstraint.twilight_civil(),\n",
    "                      MoonSeparationConstraint(min=60*u.degree),\n",
    "                      TimeConstraint(noon_before,noon_after)]"
   ]
  },
  {
   "cell_type": "code",
   "execution_count": 76,
   "metadata": {
    "collapsed": false
   },
   "outputs": [],
   "source": [
    "from astroplan.utils import time_grid_from_range\n",
    "# Create grid of times from ``start_time`` to ``end_time``\n",
    "# with resolution ``time_resolution``\n",
    "time_resolution = 1 * u.hour\n",
    "time_grid = time_grid_from_range([noon_before,noon_after],\n",
    "                                 time_resolution=time_resolution)"
   ]
  },
  {
   "cell_type": "code",
   "execution_count": 77,
   "metadata": {
    "collapsed": false
   },
   "outputs": [
    {
     "name": "stdout",
     "output_type": "stream",
     "text": [
      "(4, 24)\n",
      "[[False False False False False False False False False False False False\n",
      "   True  True  True  True  True  True  True  True  True False False False]\n",
      " [False False False False False False  True  True  True  True  True  True\n",
      "   True  True  True  True  True  True  True False False False False False]\n",
      " [False  True  True  True  True  True  True  True  True  True  True  True\n",
      "   True  True  True  True  True  True  True  True  True  True  True  True]\n",
      " [False  True  True  True  True  True  True  True  True  True  True  True\n",
      "   True  True  True  True  True  True  True  True  True  True  True  True]]\n"
     ]
    }
   ],
   "source": [
    "observability_grid = np.zeros((len(constraints), len(time_grid)),bool)\n",
    "\n",
    "for i, constraint in enumerate(constraints):\n",
    "    # Evaluate each constraint\n",
    "    observability_grid[i, :] = constraint(kpno, praesepe, times=time_grid)\n",
    "print(np.shape(observability_grid))\n",
    "print(observability_grid)"
   ]
  },
  {
   "cell_type": "code",
   "execution_count": 78,
   "metadata": {
    "collapsed": false
   },
   "outputs": [
    {
     "data": {
      "image/png": "[encoded data removed]",
      "text/plain": [
       "<matplotlib.figure.Figure at 0x7fd5d751ee50>"
      ]
     },
     "metadata": {},
     "output_type": "display_data"
    }
   ],
   "source": [
    "# Create plot showing observability of the target:\n",
    "\n",
    "nc = len(constraints)\n",
    "\n",
    "extent = [-0.5, -0.5+len(time_grid), -0.5, nc-0.5]\n",
    "\n",
    "fig, ax = plt.subplots(figsize=(11,6))\n",
    "ax.imshow(observability_grid, extent=extent)\n",
    "\n",
    "ax.set_yticks(range(0, nc))\n",
    "ax.set_yticklabels([c.__class__.__name__ for c in constraints[::-1]])\n",
    "\n",
    "ax.set_xticks(range(len(time_grid)))\n",
    "ax.set_xticklabels([t.datetime.strftime(\"%H:%M\") for t in time_grid])\n",
    "\n",
    "ax.set_xticks(np.arange(extent[0], extent[1]), minor=True)\n",
    "ax.set_yticks(np.arange(extent[2], extent[3]), minor=True)\n",
    "\n",
    "ax.grid(which='minor', color='w', linestyle='-', linewidth=2)\n",
    "ax.tick_params(axis='x', which='minor', bottom='off')\n",
    "plt.setp(ax.get_xticklabels(), rotation=30, ha='right')\n",
    "\n",
    "ax.tick_params(axis='y', which='minor', left='off')\n",
    "ax.set_xlabel('Time on {0} UTC'.format(time_grid[0].datetime.date()))\n",
    "fig.subplots_adjust(left=0.35, right=0.9, top=0.9, bottom=0.1)\n",
    "plt.show()"
   ]
  },
  {
   "cell_type": "code",
   "execution_count": 79,
   "metadata": {
    "collapsed": false
   },
   "outputs": [
    {
     "name": "stdout",
     "output_type": "stream",
     "text": [
      "[False False False False False False False False False False False False\n",
      "  True  True  True  True  True  True  True False False False False False]\n"
     ]
    }
   ],
   "source": [
    "observability = np.sum(observability_grid,axis=0)==nc\n",
    "print(observability)"
   ]
  },
  {
   "cell_type": "code",
   "execution_count": 80,
   "metadata": {
    "collapsed": false
   },
   "outputs": [
    {
     "name": "stdout",
     "output_type": "stream",
     "text": [
      "7\n"
     ]
    }
   ],
   "source": [
    "hours_observable = len(np.where(observability)[0])\n",
    "print(hours_observable)"
   ]
  },
  {
   "cell_type": "code",
   "execution_count": null,
   "metadata": {
    "collapsed": true
   },
   "outputs": [],
   "source": []
  },
  {
   "cell_type": "code",
   "execution_count": null,
   "metadata": {
    "collapsed": true
   },
   "outputs": [],
   "source": []
  }
 ],
 "metadata": {
  "kernelspec": {
   "display_name": "Python 2",
   "language": "python",
   "name": "python2"
  },
  "language_info": {
   "codemirror_mode": {
    "name": "ipython",
    "version": 2
   },
   "file_extension": ".py",
   "mimetype": "text/x-python",
   "name": "python",
   "nbconvert_exporter": "python",
   "pygments_lexer": "ipython2",
   "version": "2.7.13"
  }
 },
 "nbformat": 4,
 "nbformat_minor": 0
}
